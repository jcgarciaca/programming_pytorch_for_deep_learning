{
 "cells": [
  {
   "cell_type": "markdown",
   "metadata": {},
   "source": [
    "# Image classification"
   ]
  },
  {
   "cell_type": "code",
   "execution_count": 1,
   "metadata": {},
   "outputs": [],
   "source": [
    "import torch\n",
    "import torch.utils.data\n",
    "import torchvision\n",
    "from torchvision import transforms\n",
    "import matplotlib.pyplot as plt\n",
    "import os\n",
    "from PIL import Image"
   ]
  },
  {
   "cell_type": "markdown",
   "metadata": {},
   "source": [
    "## Load data"
   ]
  },
  {
   "cell_type": "code",
   "execution_count": 2,
   "metadata": {},
   "outputs": [],
   "source": [
    "train_data_path = '../pytorchupandrunning/chapter2/train'\n",
    "val_data_path = '../pytorchupandrunning/chapter2/val'\n",
    "test_data_path = '../pytorchupandrunning/chapter2/test'"
   ]
  },
  {
   "cell_type": "code",
   "execution_count": 3,
   "metadata": {},
   "outputs": [],
   "source": [
    "img_transforms = transforms.Compose([transforms.Resize((64, 64)),\n",
    "                                     transforms.ToTensor(),\n",
    "                                     transforms.Normalize(mean = [0.485, 0.456, 0.406],\n",
    "                                                          std = [0.229, 0.224, 0.225])\n",
    "                                     ])"
   ]
  },
  {
   "cell_type": "code",
   "execution_count": 4,
   "metadata": {},
   "outputs": [],
   "source": [
    "def check_image(path):\n",
    "    try:\n",
    "        im = Image.open(path)\n",
    "        return True\n",
    "    except:\n",
    "        return False"
   ]
  },
  {
   "cell_type": "code",
   "execution_count": 5,
   "metadata": {},
   "outputs": [],
   "source": [
    "train_data = torchvision.datasets.ImageFolder(root = train_data_path, transform = img_transforms, is_valid_file = check_image)\n",
    "test_data = torchvision.datasets.ImageFolder(root = test_data_path, transform = img_transforms, is_valid_file = check_image)\n",
    "val_data = torchvision.datasets.ImageFolder(root = val_data_path, transform = img_transforms, is_valid_file = check_image)"
   ]
  },
  {
   "cell_type": "code",
   "execution_count": 6,
   "metadata": {},
   "outputs": [],
   "source": [
    "batch_size = 64\n",
    "train_data_loader = torch.utils.data.DataLoader(train_data, batch_size = batch_size)\n",
    "val_data_loader = torch.utils.data.DataLoader(val_data, batch_size = batch_size) \n",
    "test_data_loader = torch.utils.data.DataLoader(test_data, batch_size = batch_size) "
   ]
  },
  {
   "cell_type": "markdown",
   "metadata": {},
   "source": [
    "## Neural network"
   ]
  },
  {
   "cell_type": "code",
   "execution_count": 7,
   "metadata": {},
   "outputs": [],
   "source": [
    "import torch.nn as nn\n",
    "import torch.nn.functional as F"
   ]
  },
  {
   "cell_type": "markdown",
   "metadata": {},
   "source": [
    "##  FC"
   ]
  },
  {
   "cell_type": "code",
   "execution_count": 8,
   "metadata": {},
   "outputs": [],
   "source": [
    "class SimpleNet(nn.Module):\n",
    "    def __init__(self):\n",
    "        super(SimpleNet, self).__init__()\n",
    "        self.fc1 = nn.Linear(12288, 84)\n",
    "        self.fc2 = nn.Linear(84, 50)\n",
    "        self.fc3 = nn.Linear(50, 2)\n",
    "        \n",
    "    def forward(self, x):\n",
    "        x = x.view(-1, 12288)\n",
    "        x = F.relu(self.fc1(x))\n",
    "        x = F.relu(self.fc2(x))\n",
    "        x = self.fc3(x)\n",
    "        return x"
   ]
  },
  {
   "cell_type": "code",
   "execution_count": 9,
   "metadata": {},
   "outputs": [],
   "source": [
    "simpleNet = SimpleNet()"
   ]
  },
  {
   "cell_type": "code",
   "execution_count": 10,
   "metadata": {},
   "outputs": [],
   "source": [
    "import torch.optim as optim"
   ]
  },
  {
   "cell_type": "code",
   "execution_count": 11,
   "metadata": {},
   "outputs": [],
   "source": [
    "optimizer = optim.Adam(simpleNet.parameters(), lr = 0.001)"
   ]
  },
  {
   "cell_type": "code",
   "execution_count": 12,
   "metadata": {},
   "outputs": [],
   "source": [
    "def train(net, optimizer, loss_fn, train_loader, epochs = 20):\n",
    "    for epoch in range(epochs):\n",
    "        training_loss = 0.\n",
    "        valid_loss = 0.\n",
    "        for batch in train_loader:\n",
    "            inputs, labels = batch\n",
    "            optimizer.zero_grad()\n",
    "            outputs = net(inputs)\n",
    "            loss = loss_fn(outputs, labels)\n",
    "            loss.backward()\n",
    "            optimizer.step()\n",
    "            training_loss += loss.item()\n",
    "        training_loss /= len(train_loader.dataset)        \n",
    "        \n",
    "        print('Epoch: {}, Training Loss: {:.2f}'.format(epoch + 1, training_loss))"
   ]
  },
  {
   "cell_type": "code",
   "execution_count": 14,
   "metadata": {},
   "outputs": [
    {
     "name": "stdout",
     "output_type": "stream",
     "text": [
      "Epoch: 0, Training Loss: 0.05\n",
      "Epoch: 1, Training Loss: 0.03\n",
      "Epoch: 2, Training Loss: 0.01\n",
      "Epoch: 3, Training Loss: 0.01\n",
      "Epoch: 4, Training Loss: 0.01\n"
     ]
    }
   ],
   "source": [
    "train(simpleNet, optimizer, torch.nn.CrossEntropyLoss(), train_data_loader, epochs = 5)"
   ]
  },
  {
   "cell_type": "code",
   "execution_count": null,
   "metadata": {},
   "outputs": [],
   "source": [
    "def test(net, optimizer, loss_fn, val_loader):\n",
    "    num_correct = 0\n",
    "    num_examples = 0\n",
    "    for batch in val_loader:\n",
    "        inputs, labels = batch\n",
    "        outputs = net(inputs)\n",
    "        _, predicted = torch.max(outputs, 1)"
   ]
  },
  {
   "cell_type": "code",
   "execution_count": 26,
   "metadata": {},
   "outputs": [
    {
     "name": "stdout",
     "output_type": "stream",
     "text": [
      "Accuracy of the network on the test images: 71 %\n"
     ]
    }
   ],
   "source": [
    "num_correct = 0\n",
    "num_examples = 0\n",
    "for batch in val_data_loader:\n",
    "    inputs, labels = batch\n",
    "    outputs = simpleNet(inputs)\n",
    "    _, predicted = torch.max(outputs.data, 1)    \n",
    "    num_correct += (predicted == labels).sum().item()\n",
    "    num_examples += labels.size(0)\n",
    "    \n",
    "print('Accuracy of the network on the test images: %d %%' % (100 * num_correct / num_examples))"
   ]
  },
  {
   "cell_type": "markdown",
   "metadata": {},
   "source": [
    "## Test your image"
   ]
  },
  {
   "cell_type": "code",
   "execution_count": 44,
   "metadata": {},
   "outputs": [
    {
     "name": "stdout",
     "output_type": "stream",
     "text": [
      "torch.Size([3, 64, 64])\n",
      "torch.Size([1, 3, 64, 64])\n",
      "tensor([[-2.2881,  0.5201]], grad_fn=<AddmmBackward>)\n",
      "tensor([0.0569, 0.9431], grad_fn=<SelectBackward>) torch.Size([2])\n",
      "fish 0.9431185126304626\n"
     ]
    }
   ],
   "source": [
    "labels = ['cat', 'fish']\n",
    "img = Image.open(os.path.join(test_data_path, 'fish', '1394413521_27536c0a8f.jpg'))\n",
    "img = img_transforms(img)\n",
    "print(img.shape)\n",
    "img = img.unsqueeze(0)\n",
    "print(img.shape)\n",
    "prediction = simpleNet(img)\n",
    "print(prediction)\n",
    "probability = F.softmax(prediction, dim = 1)[0]\n",
    "print(probability, probability.shape)\n",
    "prediction = prediction.argmax()\n",
    "print(labels[prediction], probability[prediction].item())"
   ]
  },
  {
   "cell_type": "code",
   "execution_count": null,
   "metadata": {},
   "outputs": [],
   "source": []
  }
 ],
 "metadata": {
  "kernelspec": {
   "display_name": "Python 3",
   "language": "python",
   "name": "python3"
  },
  "language_info": {
   "codemirror_mode": {
    "name": "ipython",
    "version": 3
   },
   "file_extension": ".py",
   "mimetype": "text/x-python",
   "name": "python",
   "nbconvert_exporter": "python",
   "pygments_lexer": "ipython3",
   "version": "3.5.2"
  }
 },
 "nbformat": 4,
 "nbformat_minor": 2
}
